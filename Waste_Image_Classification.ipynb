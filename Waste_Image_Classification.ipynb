{
  "nbformat": 4,
  "nbformat_minor": 0,
  "metadata": {
    "colab": {
      "name": "[Assignment] Waste Image Classification.ipynb",
      "provenance": [],
      "collapsed_sections": [],
      "authorship_tag": "ABX9TyNYJ5Q6zb3BY4evWROo6v4P",
      "include_colab_link": true
    },
    "kernelspec": {
      "name": "python3",
      "display_name": "Python 3"
    },
    "language_info": {
      "name": "python"
    }
  },
  "cells": [
    {
      "cell_type": "markdown",
      "metadata": {
        "id": "view-in-github",
        "colab_type": "text"
      },
      "source": [
        "<a href=\"https://colab.research.google.com/github/jxin11/waste-image-classification/blob/main/Waste_Image_Classification.ipynb\" target=\"_parent\"><img src=\"https://colab.research.google.com/assets/colab-badge.svg\" alt=\"Open In Colab\"/></a>"
      ]
    },
    {
      "cell_type": "markdown",
      "source": [
        "# Mounting Google Drive"
      ],
      "metadata": {
        "id": "2qQdRPC6EWYg"
      }
    },
    {
      "cell_type": "code",
      "execution_count": null,
      "metadata": {
        "id": "7IIwQv62jIrl",
        "colab": {
          "base_uri": "https://localhost:8080/"
        },
        "outputId": "3dfa4937-85bf-444a-daca-e3719b572972"
      },
      "outputs": [
        {
          "output_type": "stream",
          "name": "stdout",
          "text": [
            "Mounted at /drive\n"
          ]
        }
      ],
      "source": [
        "from google.colab import drive\n",
        "drive.mount('/drive')"
      ]
    },
    {
      "cell_type": "markdown",
      "source": [
        "# Import Libraries"
      ],
      "metadata": {
        "id": "atnj0t7_EaIg"
      }
    },
    {
      "cell_type": "code",
      "source": [
        "pip install visualkeras"
      ],
      "metadata": {
        "id": "ha7Bz3-4FZs3"
      },
      "execution_count": null,
      "outputs": []
    },
    {
      "cell_type": "code",
      "source": [
        "pip install helper"
      ],
      "metadata": {
        "id": "wUEXzwGfFaJe"
      },
      "execution_count": null,
      "outputs": []
    },
    {
      "cell_type": "code",
      "source": [
        "import cv2\n",
        "import glob\n",
        "import random\n",
        "import visualkeras\n",
        "import numpy as np\n",
        "import tensorflow as tf\n",
        "import matplotlib.pyplot as plt\n",
        "from PIL import ImageFont\n",
        "from tensorflow import keras\n",
        "from collections import Counter\n",
        "from sklearn import preprocessing\n",
        "from google.colab.patches import cv2_imshow\n",
        "from sklearn.model_selection import train_test_split\n",
        "from tensorflow.keras.preprocessing.image import ImageDataGenerator\n",
        "from sklearn.metrics import accuracy_score, plot_confusion_matrix, roc_auc_score"
      ],
      "metadata": {
        "id": "5UIhuA35EZJN"
      },
      "execution_count": null,
      "outputs": []
    },
    {
      "cell_type": "markdown",
      "source": [
        "# Read & Store Images"
      ],
      "metadata": {
        "id": "gjppe6WwFeEf"
      }
    },
    {
      "cell_type": "code",
      "source": [
        "!git clone https://github.com/garythung/trashnet"
      ],
      "metadata": {
        "colab": {
          "base_uri": "https://localhost:8080/"
        },
        "id": "znIGbBYGFfhE",
        "outputId": "f409d967-9728-42e2-a578-a37ad4d3a976"
      },
      "execution_count": null,
      "outputs": [
        {
          "output_type": "stream",
          "name": "stdout",
          "text": [
            "Cloning into 'trashnet'...\n",
            "remote: Enumerating objects: 42, done.\u001b[K\n",
            "remote: Counting objects: 100% (9/9), done.\u001b[K\n",
            "remote: Compressing objects: 100% (9/9), done.\u001b[K\n",
            "remote: Total 42 (delta 4), reused 0 (delta 0), pack-reused 33\u001b[K\n",
            "Unpacking objects: 100% (42/42), done.\n"
          ]
        }
      ]
    },
    {
      "cell_type": "code",
      "source": [
        "!unzip /content/trashnet/data/dataset-resized.zip"
      ],
      "metadata": {
        "id": "uTEE4dp6RHHS"
      },
      "execution_count": null,
      "outputs": []
    },
    {
      "cell_type": "code",
      "source": [
        "SIZE = 128\n",
        "\n",
        "images = []\n",
        "labels = []\n",
        "\n",
        "for folder_path in glob.glob(\"/content/dataset-resized/*\"):\n",
        "  label = folder_path.split(\"/\")[-1]\n",
        "  for img_path in glob.glob(folder_path + \"/*.jpg\"):\n",
        "    img = cv2.imread(img_path, cv2.IMREAD_COLOR)\n",
        "    img = cv2.resize(img, (SIZE, SIZE))   # Resize image\n",
        "    images.append(img)\n",
        "    labels.append(label)"
      ],
      "metadata": {
        "id": "KCDf_j29RgWb"
      },
      "execution_count": null,
      "outputs": []
    },
    {
      "cell_type": "code",
      "source": [
        "print(\"Total no. of images: \", len(images))\n",
        "print(\"Total no. of labels: \", len(labels))\n",
        "print(\"Total no. of unique labels: \", Counter(labels))"
      ],
      "metadata": {
        "colab": {
          "base_uri": "https://localhost:8080/"
        },
        "id": "IM1trQvDSDzm",
        "outputId": "6dd953c9-dad5-40bf-d8f7-239715943b46"
      },
      "execution_count": null,
      "outputs": [
        {
          "output_type": "stream",
          "name": "stdout",
          "text": [
            "Total no. of images:  2527\n",
            "Total no. of labels:  2527\n",
            "Total no. of unique labels:  Counter({'paper': 594, 'glass': 501, 'plastic': 482, 'metal': 410, 'cardboard': 403, 'trash': 137})\n"
          ]
        }
      ]
    },
    {
      "cell_type": "markdown",
      "source": [
        "# Prepare Train & Test Sets"
      ],
      "metadata": {
        "id": "BGe8lcW5TlGl"
      }
    },
    {
      "cell_type": "code",
      "source": [
        "# Shuffle images\n",
        "temp = list(zip(images, labels))\n",
        "random.seed(0)\n",
        "random.shuffle(temp)\n",
        "res1, res2 = zip(*temp)\n",
        "images, labels = list(res1), list(res2)"
      ],
      "metadata": {
        "id": "QmOjo5O9SUc6"
      },
      "execution_count": null,
      "outputs": []
    },
    {
      "cell_type": "code",
      "source": [
        "i = 1327\n",
        "cv2_imshow(images[i])\n",
        "print(labels[i])"
      ],
      "metadata": {
        "colab": {
          "base_uri": "https://localhost:8080/",
          "height": 163
        },
        "id": "0B1LA9HZTxnR",
        "outputId": "06a5635b-b45e-42d3-d6f7-7f16fdaec753"
      },
      "execution_count": null,
      "outputs": [
        {
          "output_type": "display_data",
          "data": {
            "text/plain": [
              "<PIL.Image.Image image mode=RGB size=128x128 at 0x7FDBC10596D0>"
            ],
            "image/png": "[encoded data removed]"
          },
          "metadata": {}
        },
        {
          "output_type": "stream",
          "name": "stdout",
          "text": [
            "plastic\n"
          ]
        }
      ]
    },
    {
      "cell_type": "code",
      "source": [
        ""
      ],
      "metadata": {
        "id": "ECk4SrzhUAfU"
      },
      "execution_count": null,
      "outputs": []
    }
  ]
}